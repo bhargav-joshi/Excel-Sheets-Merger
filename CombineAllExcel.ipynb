{
  "nbformat": 4,
  "nbformat_minor": 0,
  "metadata": {
    "colab": {
      "name": "CombineAllExcel.ipynb",
      "provenance": [],
      "collapsed_sections": [],
      "include_colab_link": true
    },
    "kernelspec": {
      "display_name": "Python 3",
      "language": "python",
      "name": "python3"
    },
    "language_info": {
      "codemirror_mode": {
        "name": "ipython",
        "version": 3
      },
      "file_extension": ".py",
      "mimetype": "text/x-python",
      "name": "python",
      "nbconvert_exporter": "python",
      "pygments_lexer": "ipython3",
      "version": "3.8.8"
    }
  },
  "cells": [
    {
      "cell_type": "markdown",
      "metadata": {
        "id": "view-in-github",
        "colab_type": "text"
      },
      "source": [
        "<a href=\"https://colab.research.google.com/github/bhargav-joshi/Excel-Sheets-Merger/blob/main/CombineAllExcel.ipynb\" target=\"_parent\"><img src=\"https://colab.research.google.com/assets/colab-badge.svg\" alt=\"Open In Colab\"/></a>"
      ]
    },
    {
      "cell_type": "markdown",
      "metadata": {
        "id": "myOR6jchWYgG"
      },
      "source": [
        "## **How to Combine Lot's of same data of differnt sheets in just a minute**\n",
        "\n"
      ]
    },
    {
      "cell_type": "code",
      "metadata": {
        "id": "tHMWT8y1N9D6"
      },
      "source": [
        "import pandas as pd"
      ],
      "execution_count": 1,
      "outputs": []
    },
    {
      "cell_type": "markdown",
      "metadata": {
        "id": "HMDev2S7WX7N"
      },
      "source": [
        "## This is where you have to change the Excel sheet name only\n"
      ]
    },
    {
      "cell_type": "code",
      "metadata": {
        "id": "fm03VvzvZLki"
      },
      "source": [
        "df = pd.concat(pd.read_excel('Excel sheet name.xlsx', sheet_name=None), ignore_index=True)"
      ],
      "execution_count": null,
      "outputs": []
    },
    {
      "cell_type": "code",
      "metadata": {
        "id": "PrmSKdQcZPQ0"
      },
      "source": [
        "# this will show the total rows and data view\n",
        "df"
      ],
      "execution_count": null,
      "outputs": []
    },
    {
      "cell_type": "code",
      "metadata": {
        "id": "curq_0gtOw59"
      },
      "source": [
        "#This will convert all sheets of single file [ Sheet1, Sheet2, ..... N Sheets] into Single Sheet named as Output.xlsx[Excel File]\n",
        "df.to_excel(\"output.xlsx\") "
      ],
      "execution_count": null,
      "outputs": []
    },
    {
      "cell_type": "code",
      "metadata": {
        "id": "raPndL5WO_co"
      },
      "source": [
        ""
      ],
      "execution_count": null,
      "outputs": []
    }
  ]
}